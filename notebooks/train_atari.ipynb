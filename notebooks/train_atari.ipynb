{
 "cells": [
  {
   "cell_type": "markdown",
   "metadata": {},
   "source": [
    "### Train DDQN with Prioritised experience replay on Breakout"
   ]
  },
  {
   "cell_type": "code",
   "execution_count": null,
   "metadata": {},
   "outputs": [],
   "source": [
    "import os\n",
    "import sys\n",
    "\n",
    "import numpy as np\n",
    "import torch"
   ]
  },
  {
   "cell_type": "code",
   "execution_count": null,
   "metadata": {},
   "outputs": [],
   "source": [
    "# This notebook is intended for colab. Fail fast if not using it\n",
    "from google.colab import files"
   ]
  },
  {
   "cell_type": "markdown",
   "metadata": {},
   "source": [
    "Install gym onto Colab machine"
   ]
  },
  {
   "cell_type": "code",
   "execution_count": null,
   "metadata": {},
   "outputs": [],
   "source": [
    "!pip install gym\n",
    "!pip install gym['atari']"
   ]
  },
  {
   "cell_type": "code",
   "execution_count": null,
   "metadata": {},
   "outputs": [],
   "source": [
    "cwd = os.path.split(os.getcwd())[0]\n",
    "if \"notebooks\" in cwd:\n",
    "    cwd = os.sep.join(cwd.split(os.sep)[:-1])\n",
    "if cwd not in sys.path:\n",
    "    sys.path.append(cwd)"
   ]
  },
  {
   "cell_type": "code",
   "execution_count": null,
   "metadata": {},
   "outputs": [],
   "source": [
    "from src.algorithms.double_deep_q_learning import DoubleDQNAtariAgent\n",
    "from src.models import DDQN\n",
    "from src.utils.env import make_atari, wrap_deepmind\n",
    "from src.utils.logger import Logger\n",
    "from src.utils.replay_memory import PrioritisedMemory"
   ]
  },
  {
   "cell_type": "code",
   "execution_count": null,
   "metadata": {},
   "outputs": [],
   "source": [
    "def _moving_average(interval, window_size):\n",
    "    window = np.ones(int(window_size)) / float(window_size)\n",
    "    return list(np.convolve(interval, window, \"same\"))"
   ]
  },
  {
   "cell_type": "markdown",
   "metadata": {},
   "source": [
    "Define training parameters"
   ]
  },
  {
   "cell_type": "code",
   "execution_count": null,
   "metadata": {},
   "outputs": [],
   "source": [
    "CAPACITY = 500_000\n",
    "SKIP_N = 2\n",
    "\n",
    "frames = 1_000_000\n",
    "TARGET_UPDATE_FREQUENCY = 10_000\n",
    "\n",
    "EPSILON_METHOD = \"linear\"\n",
    "EPSILON_FRAMES = int(0.2 * frames)\n",
    "EPSILON_ARGS = [EPSILON_METHOD, EPSILON_FRAMES]\n",
    "EPSILON_KWARGS = {\"epsilon_min\": 0.1}\n",
    "\n",
    "width = height = 64"
   ]
  },
  {
   "cell_type": "markdown",
   "metadata": {},
   "source": [
    "Define the env"
   ]
  },
  {
   "cell_type": "code",
   "execution_count": null,
   "metadata": {},
   "outputs": [],
   "source": [
    "env_name = \"BreakoutNoFrameskip-v4\"\n",
    "env = make_atari(env_name)\n",
    "env = wrap_deepmind(env, width=width, height=height, skip_n=SKIP_N)\n",
    "n_actions = env.action_space.n"
   ]
  },
  {
   "cell_type": "markdown",
   "metadata": {},
   "source": [
    "Create the models"
   ]
  },
  {
   "cell_type": "code",
   "execution_count": null,
   "metadata": {},
   "outputs": [],
   "source": [
    "device = torch.device(\"cuda\" if torch.cuda.is_available() else \"cpu\")\n",
    "model = DDQN(SKIP_N, width, n_actions).to(device)\n",
    "target_model = DDQN(SKIP_N, width, n_actions).to(device)\n",
    "target_model.load_state_dict(model.state_dict())\n",
    "target_model.eval()\n",
    "\n",
    "memory = PrioritisedMemory(CAPACITY, EPSILON_FRAMES)"
   ]
  },
  {
   "cell_type": "markdown",
   "metadata": {},
   "source": [
    "Create a logger"
   ]
  },
  {
   "cell_type": "code",
   "execution_count": null,
   "metadata": {},
   "outputs": [],
   "source": [
    "!mkdir models"
   ]
  },
  {
   "cell_type": "code",
   "execution_count": null,
   "metadata": {},
   "outputs": [],
   "source": [
    "save_path = os.path.join(\"/content/models\")  # For colab!\n",
    "\n",
    "# Each life counts as an episode, so there will be a lot\n",
    "logger = Logger(\n",
    "    save_path,\n",
    "    save_best=True,\n",
    "    save_every=5000,\n",
    "    log_every=500,\n",
    "    C=TARGET_UPDATE_FREQUENCY,\n",
    "    capacity=CAPACITY,\n",
    ")"
   ]
  },
  {
   "cell_type": "markdown",
   "metadata": {},
   "source": [
    "### Train"
   ]
  },
  {
   "cell_type": "code",
   "execution_count": null,
   "metadata": {},
   "outputs": [],
   "source": [
    "agent = DoubleDQNAtariAgent(\n",
    "    model, target_model, env, memory, logger, *EPSILON_ARGS, **EPSILON_KWARGS\n",
    ")\n",
    "agent.train(n_frames=frames, C=TARGET_UPDATE_FREQUENCY, render=False)"
   ]
  },
  {
   "cell_type": "code",
   "execution_count": null,
   "metadata": {},
   "outputs": [],
   "source": [
    "files.download(\"/content/models/best_model.pth\")\n",
    "files.download(\"/content/models/q_values.png\")\n",
    "files.download(\"/content/models/rewards.png\")"
   ]
  }
 ],
 "metadata": {
  "kernelspec": {
   "display_name": "Python 3",
   "language": "python",
   "name": "python3"
  },
  "language_info": {
   "codemirror_mode": {
    "name": "ipython",
    "version": 3
   },
   "file_extension": ".py",
   "mimetype": "text/x-python",
   "name": "python",
   "nbconvert_exporter": "python",
   "pygments_lexer": "ipython3",
   "version": "3.7.3"
  }
 },
 "nbformat": 4,
 "nbformat_minor": 4
}
